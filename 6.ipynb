{
 "cells": [
  {
   "cell_type": "code",
   "execution_count": 1,
   "id": "9e83ecd2-f930-4934-9953-aaafcac09bdc",
   "metadata": {},
   "outputs": [
    {
     "name": "stdout",
     "output_type": "stream",
     "text": [
      "[1, 2, 3, 4]\n"
     ]
    }
   ],
   "source": [
    "x=[1,2,3]\n",
    "x.append(4)\n",
    "print(x)"
   ]
  },
  {
   "cell_type": "code",
   "execution_count": 2,
   "id": "fe837c84-c94f-4bef-aeb2-0032e9c86bab",
   "metadata": {},
   "outputs": [
    {
     "data": {
      "text/plain": [
       "4"
      ]
     },
     "execution_count": 2,
     "metadata": {},
     "output_type": "execute_result"
    }
   ],
   "source": [
    "a=(1,2,[3,4]) #print 4\n",
    "a[2][1]"
   ]
  },
  {
   "cell_type": "code",
   "execution_count": 3,
   "id": "164dd045-c35b-4e25-8303-454d6772aac0",
   "metadata": {},
   "outputs": [
    {
     "name": "stdout",
     "output_type": "stream",
     "text": [
      "dict_keys(['1', '2', '3'])\n",
      "dict_values(['x', 'y', 'z'])\n"
     ]
    }
   ],
   "source": [
    "b={\n",
    "    '1':'x',\n",
    "    '2':'y',\n",
    "    '3':'z'\n",
    "    \n",
    "  }\n",
    "print(b.keys())\n",
    "print(b.values())"
   ]
  },
  {
   "cell_type": "code",
   "execution_count": null,
   "id": "96758b55-0513-4dcf-9a9e-a0cec6871c65",
   "metadata": {},
   "outputs": [],
   "source": [
    "#python conditional question"
   ]
  },
  {
   "cell_type": "code",
   "execution_count": 3,
   "id": "6e43e8e4-9e85-445e-aafc-605aa064e582",
   "metadata": {},
   "outputs": [
    {
     "name": "stdout",
     "output_type": "stream",
     "text": [
      "ask the age of the group 88\n"
     ]
    },
    {
     "name": "stdout",
     "output_type": "stream",
     "text": [
      "senior\n"
     ]
    }
   ],
   "source": [
    "age=int(input('ask the age of the group'))\n",
    "if age<13:\n",
    "    print('child')\n",
    "elif 13<age<19:\n",
    "    print('teenage')\n",
    "elif 20<age<59:\n",
    "    print('adult')\n",
    "else:\n",
    "    print('senior')"
   ]
  },
  {
   "cell_type": "code",
   "execution_count": 4,
   "id": "349bc77c-0f15-4392-abcf-39077e230de6",
   "metadata": {},
   "outputs": [],
   "source": [
    "# Q.2 "
   ]
  },
  {
   "cell_type": "code",
   "execution_count": 7,
   "id": "c75b4e9d-f1dc-4232-842d-441378c70872",
   "metadata": {},
   "outputs": [
    {
     "name": "stdout",
     "output_type": "stream",
     "text": [
      "enter your age 78\n"
     ]
    },
    {
     "name": "stdout",
     "output_type": "stream",
     "text": [
      "since it is wednesday $2 discount price 10\n"
     ]
    }
   ],
   "source": [
    "age=int(input('enter your age'))\n",
    "day='Wednesday'\n",
    "\n",
    "if age>18:\n",
    "    if day=='Wednesday':\n",
    "        price=12\n",
    "        price=price-2\n",
    "        print('since it is wednesday $2 discount price',price)\n",
    "    else:\n",
    "        print(f'$ {price} for adults')\n",
    "    \n",
    "else:\n",
    "    if day=='Wednesday':\n",
    "        price=8\n",
    "        price=price-2\n",
    "        print('since it is wednesday $2 discount price',price)\n",
    "    else:\n",
    "        print(f'$ {price} for adults')"
   ]
  },
  {
   "cell_type": "code",
   "execution_count": 8,
   "id": "79b87ca3-2c65-4749-a1b6-d2d7d6cbaaa1",
   "metadata": {},
   "outputs": [],
   "source": [
    "# Q.3"
   ]
  },
  {
   "cell_type": "code",
   "execution_count": 14,
   "id": "19e62ab7-f4e5-4699-ade7-25bd36951de3",
   "metadata": {},
   "outputs": [
    {
     "name": "stdout",
     "output_type": "stream",
     "text": [
      "enter the colour of banana brown\n"
     ]
    },
    {
     "name": "stdout",
     "output_type": "stream",
     "text": [
      "overripe\n"
     ]
    }
   ],
   "source": [
    "fruit='Banana'\n",
    "color=input('enter the colour of banana')\n",
    "if fruit=='banana'or fruit=='Banana':\n",
    "    if color=='Green'or color=='green':\n",
    "        print('unripe')\n",
    "    elif color=='Yellow' or color=='yellow':\n",
    "        print('ripe')\n",
    "    elif color=='Brown' or color=='brown':\n",
    "        print('overripe')\n",
    "    else:\n",
    "        print('color doesnot match')\n",
    "else:\n",
    "    print('fruit doesnot match')\n",
    "    "
   ]
  },
  {
   "cell_type": "code",
   "execution_count": null,
   "id": "0c9bfda6-e5a1-4e9b-af28-c3e9b1c658fc",
   "metadata": {},
   "outputs": [],
   "source": [
    "# 3."
   ]
  },
  {
   "cell_type": "code",
   "execution_count": 27,
   "id": "96e45527-58e8-4eda-a2c1-d5a8829276ac",
   "metadata": {},
   "outputs": [
    {
     "name": "stdout",
     "output_type": "stream",
     "text": [
      "do you want coffee or tea? tea\n",
      "Do you want small,medium or large ? small\n",
      "Do you want extra short?, yes or no yes\n"
     ]
    },
    {
     "name": "stdout",
     "output_type": "stream",
     "text": [
      "small tea with extra shot.\n"
     ]
    }
   ],
   "source": [
    "option=input('do you want coffee or tea?')\n",
    "order=input('Do you want small,medium or large ?')\n",
    "extra_shot=input('Do you want extra short?, yes or no')\n",
    "if option=='coffee':\n",
    "    if extra_shot=='yes' :\n",
    "        if order=='small':\n",
    "            print('small coffee with extra shot.')\n",
    "        elif order=='medium':\n",
    "            print('medium coffee with extra shot')\n",
    "        elif order=='large':\n",
    "            print('large coffee with extra shot')\n",
    "        else:\n",
    "            print('NOT available')\n",
    "    else:\n",
    "        if order=='small':\n",
    "            print('only small coffee with no extra shot')\n",
    "        elif order=='medium':\n",
    "            print('only medium coffee with no extra shot')\n",
    "        elif order=='large':\n",
    "            print(' only large coffee with no extra shot')\n",
    "        else:\n",
    "            print('NOT Available')  \n",
    "else:\n",
    "    if extra_shot=='yes' :\n",
    "        if order=='small':\n",
    "            print('small tea with extra shot.')\n",
    "        elif order=='medium':\n",
    "            print('medium tea with extra shot')\n",
    "        elif order=='large':\n",
    "            print('large tea with extra shot')\n",
    "        else:\n",
    "            print('NOT available')\n",
    "    else:\n",
    "        if order=='small':\n",
    "            print('only small tea with no extra shot')\n",
    "        elif order=='medium':\n",
    "            print('only medium tea with no extra shot')\n",
    "        elif order=='large':\n",
    "            print(' only large tea with no extra shot')\n",
    "        else:\n",
    "            print('NOT Available')         "
   ]
  },
  {
   "cell_type": "code",
   "execution_count": 29,
   "id": "f63c1ca8-5eb2-4c1d-9687-5d329be7a587",
   "metadata": {},
   "outputs": [],
   "source": [
    "# Q.4"
   ]
  },
  {
   "cell_type": "code",
   "execution_count": 32,
   "id": "3ca892d1-6dc7-4f8d-b2c1-93c9194cb33b",
   "metadata": {},
   "outputs": [
    {
     "name": "stdout",
     "output_type": "stream",
     "text": [
      "enter your password 68758gjchgdhv'*\n"
     ]
    },
    {
     "name": "stdout",
     "output_type": "stream",
     "text": [
      "strong strength\n"
     ]
    }
   ],
   "source": [
    "password=input('enter your password')\n",
    "if len(password)<6:\n",
    "    print('weak strength')\n",
    "elif len(password)<=10:\n",
    "    print('Medium strength')\n",
    "else:\n",
    "    print('strong strength')"
   ]
  },
  {
   "cell_type": "code",
   "execution_count": 33,
   "id": "0ef53f3a-0220-4a9f-8a5f-23f21f67e01d",
   "metadata": {},
   "outputs": [],
   "source": [
    "# Q.5"
   ]
  },
  {
   "cell_type": "code",
   "execution_count": 35,
   "id": "61c37542-dff6-4be6-8cc4-8e7d1350b238",
   "metadata": {},
   "outputs": [
    {
     "name": "stdout",
     "output_type": "stream",
     "text": [
      "enter year: 500\n"
     ]
    },
    {
     "name": "stdout",
     "output_type": "stream",
     "text": [
      "500 is not a leap year\n"
     ]
    }
   ],
   "source": [
    "year=int(input('enter year:'))\n",
    "if (year %400==0) and (year%4==0 and year%100!=0):\n",
    "    print(year,'is a leap yar')\n",
    "else:\n",
    "    print(year, 'is not a leap year')"
   ]
  },
  {
   "cell_type": "code",
   "execution_count": null,
   "id": "63bffc76-8074-4a07-a247-3d047deef0c4",
   "metadata": {},
   "outputs": [],
   "source": []
  }
 ],
 "metadata": {
  "kernelspec": {
   "display_name": "Python 3 (ipykernel)",
   "language": "python",
   "name": "python3"
  },
  "language_info": {
   "codemirror_mode": {
    "name": "ipython",
    "version": 3
   },
   "file_extension": ".py",
   "mimetype": "text/x-python",
   "name": "python",
   "nbconvert_exporter": "python",
   "pygments_lexer": "ipython3",
   "version": "3.13.1"
  }
 },
 "nbformat": 4,
 "nbformat_minor": 5
}
