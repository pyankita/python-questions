{
 "cells": [
  {
   "cell_type": "code",
   "execution_count": 2,
   "id": "deb15977-8139-4939-8889-a20d864d1336",
   "metadata": {},
   "outputs": [
    {
     "name": "stdout",
     "output_type": "stream",
     "text": [
      "[1, 4, 7, 67, 90]\n"
     ]
    }
   ],
   "source": [
    "#1. sort a list without using a sort keyword\n",
    "\n",
    "def sorting(lst):\n",
    "    n=len(lst)\n",
    "    for i in range(n):\n",
    "        for j in range(i+1,n):\n",
    "            if lst[i]>lst[j]:\n",
    "                lst[i],lst[j]=lst[j],lst[i]\n",
    "    print(lst)\n",
    "sorting([4,67,1,7,90])"
   ]
  },
  {
   "cell_type": "code",
   "execution_count": 5,
   "id": "5efd8d63-5d2c-43ce-957e-cd830ac9a880",
   "metadata": {},
   "outputs": [
    {
     "data": {
      "text/plain": [
       "False"
      ]
     },
     "execution_count": 5,
     "metadata": {},
     "output_type": "execute_result"
    }
   ],
   "source": [
    "#2. check whether a string is palindrome or not\n",
    "# 'mom'==>'mom' \n",
    "\n",
    "def palindrome(st):\n",
    "    if st==st[::-1]:\n",
    "        return True\n",
    "    else:\n",
    "        return False\n",
    "\n",
    "palindrome(\"watermelon\")"
   ]
  },
  {
   "cell_type": "code",
   "execution_count": 6,
   "id": "ef126663-4d7b-4f82-8308-a1728f616939",
   "metadata": {},
   "outputs": [
    {
     "data": {
      "text/plain": [
       "True"
      ]
     },
     "execution_count": 6,
     "metadata": {},
     "output_type": "execute_result"
    }
   ],
   "source": [
    "palindrome(\"mom\")"
   ]
  },
  {
   "cell_type": "code",
   "execution_count": 17,
   "id": "d2b18849-d2f7-4f61-8afc-80a3073b7936",
   "metadata": {},
   "outputs": [
    {
     "name": "stdout",
     "output_type": "stream",
     "text": [
      "1,7\n",
      "2,6\n",
      "3,5\n",
      "4,4\n"
     ]
    }
   ],
   "source": [
    "# 3. Find the pair with given number in a list\n",
    "# target=4 means need to find two element that gives 4 if we add them \n",
    "\n",
    "def find_pair(lst):\n",
    "    target=8\n",
    "    n=len(lst)\n",
    "    for i in range(n):\n",
    "        for j in range(i,n):\n",
    "            if lst[i]+lst[j]==target:\n",
    "                print(f\"{lst[i]},{lst[j]}\")\n",
    "find_pair([1,2,3,4,5,6,7,8])"
   ]
  },
  {
   "cell_type": "code",
   "execution_count": 25,
   "id": "ab68bfec-13a1-4193-9fe2-b2f3b1b39f61",
   "metadata": {},
   "outputs": [
    {
     "name": "stdout",
     "output_type": "stream",
     "text": [
      "blue is sky the\n"
     ]
    }
   ],
   "source": [
    "# 4. find the output \n",
    "'''\n",
    "input=\"the sky is blue\"\n",
    "output=\"blue is sky the\"\n",
    "'''\n",
    "\n",
    "def string_manu(sentence):\n",
    "    a=sentence.split()\n",
    "    print(\" \".join(a[::-1]))\n",
    "string_manu(\"the sky is blue\")"
   ]
  },
  {
   "cell_type": "code",
   "execution_count": 28,
   "id": "27bc6253-54d9-46c3-846a-e7f832b1af27",
   "metadata": {},
   "outputs": [
    {
     "ename": "Exception",
     "evalue": "Exception : 1 is found",
     "output_type": "error",
     "traceback": [
      "\u001b[0;31m---------------------------------------------------------------------------\u001b[0m",
      "\u001b[0;31mException\u001b[0m                                 Traceback (most recent call last)",
      "Cell \u001b[0;32mIn[28], line 10\u001b[0m\n\u001b[1;32m      8\u001b[0m         \u001b[38;5;28;01melse\u001b[39;00m:\n\u001b[1;32m      9\u001b[0m             sum1\u001b[38;5;241m+\u001b[39m\u001b[38;5;241m=\u001b[39m\u001b[38;5;241m1\u001b[39m\n\u001b[0;32m---> 10\u001b[0m \u001b[43mraise_exception\u001b[49m\u001b[43m(\u001b[49m\u001b[43m[\u001b[49m\u001b[38;5;241;43m1\u001b[39;49m\u001b[43m,\u001b[49m\u001b[38;5;241;43m2\u001b[39;49m\u001b[43m,\u001b[49m\u001b[38;5;241;43m3\u001b[39;49m\u001b[43m,\u001b[49m\u001b[38;5;241;43m4\u001b[39;49m\u001b[43m]\u001b[49m\u001b[43m)\u001b[49m\n",
      "Cell \u001b[0;32mIn[28], line 7\u001b[0m, in \u001b[0;36mraise_exception\u001b[0;34m(lst)\u001b[0m\n\u001b[1;32m      5\u001b[0m \u001b[38;5;28;01mfor\u001b[39;00m i \u001b[38;5;129;01min\u001b[39;00m lst:\n\u001b[1;32m      6\u001b[0m     \u001b[38;5;28;01mif\u001b[39;00m i\u001b[38;5;241m==\u001b[39m\u001b[38;5;241m1\u001b[39m:\n\u001b[0;32m----> 7\u001b[0m         \u001b[38;5;28;01mraise\u001b[39;00m \u001b[38;5;167;01mException\u001b[39;00m(\u001b[38;5;124m\"\u001b[39m\u001b[38;5;124mException : 1 is found\u001b[39m\u001b[38;5;124m\"\u001b[39m)\n\u001b[1;32m      8\u001b[0m     \u001b[38;5;28;01melse\u001b[39;00m:\n\u001b[1;32m      9\u001b[0m         sum1\u001b[38;5;241m+\u001b[39m\u001b[38;5;241m=\u001b[39m\u001b[38;5;241m1\u001b[39m\n",
      "\u001b[0;31mException\u001b[0m: Exception : 1 is found"
     ]
    }
   ],
   "source": [
    "# 5. write a code to raise an exception \n",
    "\n",
    "def raise_exception(lst):\n",
    "    sum1=0\n",
    "    for i in lst:\n",
    "        if i==1:\n",
    "            raise Exception(\"Exception : 1 is found\")\n",
    "        else:\n",
    "            sum1+=1\n",
    "raise_exception([1,2,3,4])"
   ]
  },
  {
   "cell_type": "code",
   "execution_count": null,
   "id": "5c06f74c-d0c9-417c-9968-283a6084795f",
   "metadata": {},
   "outputs": [],
   "source": []
  }
 ],
 "metadata": {
  "kernelspec": {
   "display_name": "Python 3 (ipykernel)",
   "language": "python",
   "name": "python3"
  },
  "language_info": {
   "codemirror_mode": {
    "name": "ipython",
    "version": 3
   },
   "file_extension": ".py",
   "mimetype": "text/x-python",
   "name": "python",
   "nbconvert_exporter": "python",
   "pygments_lexer": "ipython3",
   "version": "3.13.1"
  }
 },
 "nbformat": 4,
 "nbformat_minor": 5
}
