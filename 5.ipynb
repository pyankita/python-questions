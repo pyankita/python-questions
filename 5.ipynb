{
 "cells": [
  {
   "cell_type": "code",
   "execution_count": null,
   "id": "1b7a6ad2-1f4c-48c7-8f19-ae1f9998f3dc",
   "metadata": {},
   "outputs": [
    {
     "name": "stdout",
     "output_type": "stream",
     "text": [
      "120\n"
     ]
    }
   ],
   "source": [
    "#1 . to find the factorial of a number\n",
    "# 5!==>5*4*3*2*1 ==>120\n",
    "\n",
    "def factorial(n):\n",
    "    fact=1\n",
    "    for i in range(1,n+1):\n",
    "        fact*=i  \n",
    "    print(fact)\n",
    "\n",
    "factorial(5)"
   ]
  },
  {
   "cell_type": "code",
   "execution_count": null,
   "id": "66273911-b6c7-4445-904b-4a229fa5cde2",
   "metadata": {},
   "outputs": [
    {
     "name": "stdout",
     "output_type": "stream",
     "text": [
      "222\n"
     ]
    }
   ],
   "source": [
    "#2. to find the largest number in a list without using built function \n",
    "# [2,4,56,7,8]==>56\n",
    "\n",
    "def largest_number(lst):\n",
    "    maximum=lst[0] # maximum=2\n",
    "    n=len(lst) #5 \n",
    "    for i in range(1,n):\n",
    "        if maximum<lst[i]:\n",
    "            maximum=lst[i]\n",
    "    print(maximum)\n",
    "\n",
    "largest_number([2,4,56,7,8,222])"
   ]
  },
  {
   "cell_type": "code",
   "execution_count": null,
   "id": "3d2cc2ec-4faa-4f45-b92c-09153c540d42",
   "metadata": {},
   "outputs": [
    {
     "ename": "AttributeError",
     "evalue": "'str' object has no attribute 'append'",
     "output_type": "error",
     "traceback": [
      "\u001b[0;31m---------------------------------------------------------------------------\u001b[0m",
      "\u001b[0;31mAttributeError\u001b[0m                            Traceback (most recent call last)",
      "Cell \u001b[0;32mIn[14], line 15\u001b[0m\n\u001b[1;32m     12\u001b[0m     \u001b[38;5;28mprint\u001b[39m(new_s)\n\u001b[1;32m     14\u001b[0m s\u001b[38;5;241m=\u001b[39m\u001b[38;5;124m\"\u001b[39m\u001b[38;5;124mwatermelon\u001b[39m\u001b[38;5;124m\"\u001b[39m\n\u001b[0;32m---> 15\u001b[0m \u001b[43mremove_vowels\u001b[49m\u001b[43m(\u001b[49m\u001b[43ms\u001b[49m\u001b[43m)\u001b[49m\n",
      "Cell \u001b[0;32mIn[14], line 10\u001b[0m, in \u001b[0;36mremove_vowels\u001b[0;34m(s)\u001b[0m\n\u001b[1;32m      8\u001b[0m \u001b[38;5;28;01mfor\u001b[39;00m i \u001b[38;5;129;01min\u001b[39;00m new:\n\u001b[1;32m      9\u001b[0m     \u001b[38;5;28;01mif\u001b[39;00m i \u001b[38;5;129;01mnot\u001b[39;00m \u001b[38;5;129;01min\u001b[39;00m new_s:\n\u001b[0;32m---> 10\u001b[0m         \u001b[43mnew_s\u001b[49m\u001b[38;5;241;43m.\u001b[39;49m\u001b[43mappend\u001b[49m(i)\n\u001b[1;32m     11\u001b[0m \u001b[38;5;124m\"\u001b[39m\u001b[38;5;124m \u001b[39m\u001b[38;5;124m\"\u001b[39m\u001b[38;5;241m.\u001b[39mjoin(i)\n\u001b[1;32m     12\u001b[0m \u001b[38;5;28mprint\u001b[39m(new_s)\n",
      "\u001b[0;31mAttributeError\u001b[0m: 'str' object has no attribute 'append'"
     ]
    }
   ],
   "source": [
    "# 3. To remove vowels from a string\n",
    "# \"watermelon\"==> \"wtrmln\"\n",
    "\n",
    "def remove_vowels(s):\n",
    "    def remove_vowels(s):\n",
    "    vowels = \"aeiou\"\n",
    "    new_s = \"\"\n",
    "    for char in s:\n",
    "        if char.lower() not in vowels:\n",
    "            new_s += char\n",
    "    print(new_s)\n",
    "\n",
    "s = \"watermelon\"\n",
    "remove_vowels(s)\n",
    "\n",
    "    \n",
    "s=\"watermelon\"\n",
    "\n",
    "remove_vowels(s)"
   ]
  },
  {
   "cell_type": "code",
   "execution_count": null,
   "id": "1f3c2adb-5c47-430a-94cd-3d31165272fd",
   "metadata": {},
   "outputs": [
    {
     "name": "stdout",
     "output_type": "stream",
     "text": [
      "6\n"
     ]
    }
   ],
   "source": [
    "#4 . To find the second largest number in a list\n",
    "# [2,6,4,5,7]==>6\n",
    "\n",
    "def second_largest(lst):\n",
    "    n=len(lst)\n",
    "    for i in range(n):\n",
    "        for j in range(i+1,n):\n",
    "            if lst[i]>lst[j]:\n",
    "                lst[i],lst[j]=lst[j],lst[i]\n",
    "    print(lst[-2])\n",
    "\n",
    "second_largest([2,6,5,4,7])"
   ]
  },
  {
   "cell_type": "code",
   "execution_count": null,
   "id": "f0a34263-aae3-44fb-bb08-398c1a5a8f8c",
   "metadata": {},
   "outputs": [],
   "source": [
    "# 5. Write a Python program to count the frequency of words in a sentence.\n",
    "\n"
   ]
  },
  {
   "cell_type": "code",
   "execution_count": null,
   "id": "55c5e3ba-73fd-4e3e-bd97-bbaa4c8002d1",
   "metadata": {},
   "outputs": [],
   "source": []
  }
 ],
 "metadata": {
  "kernelspec": {
   "display_name": "Python 3 (ipykernel)",
   "language": "python",
   "name": "python3"
  },
  "language_info": {
   "codemirror_mode": {
    "name": "ipython",
    "version": 3
   },
   "file_extension": ".py",
   "mimetype": "text/x-python",
   "name": "python",
   "nbconvert_exporter": "python",
   "pygments_lexer": "ipython3",
   "version": "3.13.1"
  }
 },
 "nbformat": 4,
 "nbformat_minor": 5
}
