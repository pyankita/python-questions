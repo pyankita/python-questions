{
 "cells": [
  {
   "cell_type": "code",
   "execution_count": 8,
   "id": "ebd1df27-eb6b-47af-8b7e-09949a1792b8",
   "metadata": {},
   "outputs": [
    {
     "name": "stdout",
     "output_type": "stream",
     "text": [
      "*\n",
      "**\n",
      "***\n",
      "****\n",
      "*****\n"
     ]
    }
   ],
   "source": [
    "#1.pattern questions\n",
    "\n",
    "'''\n",
    "*\n",
    "**\n",
    "***\n",
    "****\n",
    "*****\n",
    "\n",
    "'''\n",
    "\n",
    "def right_angle(num):  \n",
    "    for i in range(1,num+1):\n",
    "        print('*'*i)\n",
    "right_angle(5)"
   ]
  },
  {
   "cell_type": "code",
   "execution_count": 12,
   "id": "9b9e5787-717c-4ef5-a1ad-d5f3666ba4a4",
   "metadata": {},
   "outputs": [
    {
     "name": "stdout",
     "output_type": "stream",
     "text": [
      "*****\n",
      "****\n",
      "***\n",
      "**\n",
      "*\n"
     ]
    }
   ],
   "source": [
    "#2. \n",
    "'''\n",
    "*****\n",
    "****\n",
    "***\n",
    "**\n",
    "*\n",
    "\n",
    "'''\n",
    "\n",
    "def inverted_rightangle(n):\n",
    "    for i in range(n,0,-1):\n",
    "        print('*'*i)\n",
    "\n",
    "inverted_rightangle(5)"
   ]
  },
  {
   "cell_type": "code",
   "execution_count": 32,
   "id": "6f39a75b-7bfd-4823-85af-d4a56867be7b",
   "metadata": {},
   "outputs": [
    {
     "name": "stdout",
     "output_type": "stream",
     "text": [
      "1 \n",
      "1 2 \n",
      "1 2 3 \n",
      "1 2 3 4 \n",
      "1 2 3 4 5 \n"
     ]
    }
   ],
   "source": [
    "# 3. \n",
    "'''\n",
    "1\n",
    "12\n",
    "123\n",
    "1234\n",
    "12345\n",
    "\n",
    "'''\n",
    "\n",
    "def number_right(number):\n",
    "    for i in range(1,number+1):\n",
    "        for j in range(1,i+1):\n",
    "            print(j,end=\" \")\n",
    "        print()\n",
    "\n",
    "number_right(5)"
   ]
  },
  {
   "cell_type": "code",
   "execution_count": 16,
   "id": "136fdf57-96b0-4672-bd0e-7e9af9f5ca29",
   "metadata": {},
   "outputs": [
    {
     "name": "stdout",
     "output_type": "stream",
     "text": [
      "*****\n",
      "*****\n",
      "*****\n",
      "*****\n",
      "*****\n"
     ]
    }
   ],
   "source": [
    "#4. \n",
    "\n",
    "'''\n",
    "*****\n",
    "*****\n",
    "*****\n",
    "*****\n",
    "*****\n",
    "\n",
    "'''\n",
    "\n",
    "def square(num):\n",
    "    for i in range(num):  #how many row it form 5 \n",
    "        print('*'*num)\n",
    "square(5)"
   ]
  },
  {
   "cell_type": "code",
   "execution_count": 34,
   "id": "00730988-f7f8-491b-8985-123502677c9c",
   "metadata": {},
   "outputs": [
    {
     "name": "stdout",
     "output_type": "stream",
     "text": [
      "1 \n",
      "2 3 \n",
      "4 5 6 \n",
      "7 8 9 10 \n"
     ]
    }
   ],
   "source": [
    "#5 .\n",
    "\n",
    "'''\n",
    "1\n",
    "2 3\n",
    "4 5 6\n",
    "7 8 9 10\n",
    "\n",
    "'''\n",
    "\n",
    "def increasing_right(n):\n",
    "    count=1\n",
    "    for i in range(1,n+1):\n",
    "        for j in range(i):\n",
    "            print(count,end=\" \")\n",
    "            count+=1\n",
    "        print()\n",
    "increasing_right(4)"
   ]
  },
  {
   "cell_type": "code",
   "execution_count": 42,
   "id": "7405e13f-b138-4064-a3b4-abb27bf9b210",
   "metadata": {},
   "outputs": [
    {
     "name": "stdout",
     "output_type": "stream",
     "text": [
      "1 2 3 4 5 \n",
      "1 2 3 4 \n",
      "1 2 3 \n",
      "1 2 \n",
      "1 \n"
     ]
    }
   ],
   "source": [
    "#6. \n",
    "'''\n",
    "12345\n",
    "1234\n",
    "123\n",
    "12\n",
    "1\n",
    "\n",
    "'''\n",
    "def inverted_numbers(num):\n",
    "    for i in range(num,0,-1):\n",
    "        for j in range(1,i+1):\n",
    "            print(j,end=\" \")\n",
    "        print()\n",
    "        \n",
    "inverted_numbers(5)\n",
    "                "
   ]
  },
  {
   "cell_type": "code",
   "execution_count": 43,
   "id": "86c0d6b6-4bd1-4e4e-9360-54e7132299b5",
   "metadata": {},
   "outputs": [
    {
     "name": "stdout",
     "output_type": "stream",
     "text": [
      "*       * \n",
      "  *   *   \n",
      "    *     \n",
      "  *   *   \n",
      "*       * \n"
     ]
    }
   ],
   "source": [
    "# 7. \n",
    "\n",
    "'''\n",
    "*   *\n",
    " * * \n",
    "  *  \n",
    " * * \n",
    "*   *\n",
    "\n",
    "\n",
    "'''\n",
    "def zig_zag(n):\n",
    "    for i in range(n): # 5 rows\n",
    "        for j in range(n): # only 4 columns\n",
    "            if i==j or i+j==n-1:\n",
    "                print(\"*\",end=\" \")\n",
    "            else:\n",
    "                print(\" \" ,end=\" \")\n",
    "        print()\n",
    "zig_zag(5)"
   ]
  },
  {
   "cell_type": "code",
   "execution_count": 48,
   "id": "dc62df8f-b570-4b6b-9671-67c6a553f834",
   "metadata": {},
   "outputs": [
    {
     "name": "stdout",
     "output_type": "stream",
     "text": [
      "    *\n",
      "   ***\n",
      "  *****\n",
      " *******\n",
      "*********\n"
     ]
    }
   ],
   "source": [
    "#8 .\n",
    "\n",
    "'''\n",
    "    *\n",
    "   ***\n",
    "  *****\n",
    " *******\n",
    "*********\n",
    "\n",
    "'''\n",
    "\n",
    "def pyramid(n):\n",
    "    for i in range(1,n+1):\n",
    "        spaces=n-i\n",
    "        stars=2*i-1\n",
    "        print(\" \"*spaces+'*'*stars)\n",
    "\n",
    "pyramid(5)"
   ]
  },
  {
   "cell_type": "code",
   "execution_count": 49,
   "id": "c61d5497-ee85-4ef2-96d2-c7a60d550af8",
   "metadata": {},
   "outputs": [
    {
     "name": "stdout",
     "output_type": "stream",
     "text": [
      "*********\n",
      " *******\n",
      "  *****\n",
      "   ***\n",
      "    *\n"
     ]
    }
   ],
   "source": [
    "# 9.Inverted Pyramid\n",
    "\n",
    "'''\n",
    "*********\n",
    " *******\n",
    "  *****\n",
    "   ***\n",
    "    *\n",
    "\n",
    "'''\n",
    "\n",
    "def inverted(n):\n",
    "    for i in range(n):\n",
    "        spaces=i\n",
    "        stars=2*(n-i)-1\n",
    "        print(' '*spaces+ '*'*stars)\n",
    "inverted(5)"
   ]
  },
  {
   "cell_type": "code",
   "execution_count": 50,
   "id": "38cad68b-8a89-4bb3-8042-54288b8e46f5",
   "metadata": {},
   "outputs": [
    {
     "name": "stdout",
     "output_type": "stream",
     "text": [
      "  *\n",
      " ***\n",
      "*****\n",
      " ***\n",
      "  *\n"
     ]
    }
   ],
   "source": [
    "# 10. Diamond\n",
    "'''\n",
    "    *\n",
    "   ***\n",
    "  *****\n",
    "   ***\n",
    "    *\n",
    "'''\n",
    "\n",
    "def diamond(n):\n",
    "    # Upper pyramid (1 to n)\n",
    "    for i in range(1, n + 1):\n",
    "        spaces = n - i\n",
    "        stars = 2 * i - 1\n",
    "        print(\" \" * spaces + \"*\" * stars)\n",
    "\n",
    "    # Lower inverted pyramid (n-1 to 1)\n",
    "    for i in range(n - 1, 0, -1):\n",
    "        spaces = n - i\n",
    "        stars = 2 * i - 1\n",
    "        print(\" \" * spaces + \"*\" * stars)\n",
    "\n",
    "diamond(3)\n"
   ]
  },
  {
   "cell_type": "code",
   "execution_count": 52,
   "id": "38dd4d20-d83f-4f30-aaf4-b4bb4819be56",
   "metadata": {},
   "outputs": [
    {
     "name": "stdout",
     "output_type": "stream",
     "text": [
      "    *\n",
      "   **\n",
      "  ***\n",
      " ****\n",
      "*****\n"
     ]
    }
   ],
   "source": [
    "# 11. Right- Aligned Triangle\n",
    "\n",
    "'''\n",
    "    *\n",
    "   **\n",
    "  ***\n",
    " ****\n",
    "*****\n",
    "'''\n",
    "\n",
    "def right_aligned(n):\n",
    "    for i in range(1, n + 1):\n",
    "        spaces = n - i\n",
    "        stars = i\n",
    "        print(\" \" * spaces + \"*\" * stars)\n",
    "\n",
    "right_aligned(5)\n"
   ]
  },
  {
   "cell_type": "code",
   "execution_count": 53,
   "id": "0f8705dc-d463-496f-9b53-49173e5a8cee",
   "metadata": {},
   "outputs": [
    {
     "name": "stdout",
     "output_type": "stream",
     "text": [
      "    1 \n",
      "   1 1 \n",
      "  1 2 1 \n",
      " 1 3 3 1 \n",
      "1 4 6 4 1 \n"
     ]
    }
   ],
   "source": [
    "# 12. Pascal's Triangle\n",
    "\n",
    "'''\n",
    "    1\n",
    "   1 1\n",
    "  1 2 1\n",
    " 1 3 3 1\n",
    "1 4 6 4 1\n",
    "'''\n",
    "def pascals_triangle(n):\n",
    "    for i in range(n):\n",
    "        # Print spaces for alignment\n",
    "        print(\" \" * (n - i - 1), end=\"\")\n",
    "\n",
    "        num = 1  # First value in each row is always 1\n",
    "        for j in range(i + 1):\n",
    "            print(num, end=\" \")\n",
    "\n",
    "            # Update value using nCr logic\n",
    "            num = num * (i - j) // (j + 1)\n",
    "\n",
    "        print()  # Move to the next line\n",
    "\n",
    "pascals_triangle(5)\n"
   ]
  },
  {
   "cell_type": "code",
   "execution_count": null,
   "id": "878654d4-1791-468d-bc00-ebaabb1680c2",
   "metadata": {},
   "outputs": [],
   "source": []
  }
 ],
 "metadata": {
  "kernelspec": {
   "display_name": "Python 3 (ipykernel)",
   "language": "python",
   "name": "python3"
  },
  "language_info": {
   "codemirror_mode": {
    "name": "ipython",
    "version": 3
   },
   "file_extension": ".py",
   "mimetype": "text/x-python",
   "name": "python",
   "nbconvert_exporter": "python",
   "pygments_lexer": "ipython3",
   "version": "3.13.1"
  }
 },
 "nbformat": 4,
 "nbformat_minor": 5
}
