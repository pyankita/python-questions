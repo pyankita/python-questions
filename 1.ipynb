{
 "cells": [
  {
   "cell_type": "code",
   "execution_count": 1,
   "id": "07bd3cfa-dcaa-4882-a24a-fc80a57c99ee",
   "metadata": {},
   "outputs": [],
   "source": [
    "#class in python "
   ]
  },
  {
   "cell_type": "code",
   "execution_count": 10,
   "id": "add99e93-70b9-4b70-bb3e-4a65e017ca12",
   "metadata": {},
   "outputs": [
    {
     "name": "stdout",
     "output_type": "stream",
     "text": [
      "Tesla is brand and 2022 is year.\n"
     ]
    }
   ],
   "source": [
    "# 1. Create a class Car with attributes brand and year\n",
    "\n",
    "class Car: #class name start with the capital letter \n",
    "    def __init__(self,brand,year): #initializer\n",
    "        self.x=brand\n",
    "        self.y=year\n",
    "obj=Car(\"Tesla\",\"2022\")\n",
    "print(f'{obj.x} is brand and {obj.y} is year.')"
   ]
  },
  {
   "cell_type": "code",
   "execution_count": 8,
   "id": "afcd411c-e681-488b-b1f4-0b2b555dd7ce",
   "metadata": {},
   "outputs": [],
   "source": [
    "# use self.attribute inside the class\n",
    "# use object.attribut outside the class"
   ]
  },
  {
   "cell_type": "code",
   "execution_count": 26,
   "id": "352e3b88-085f-4c3f-9516-acb13f30a329",
   "metadata": {},
   "outputs": [
    {
     "name": "stdout",
     "output_type": "stream",
     "text": [
      "Area: 10\n"
     ]
    }
   ],
   "source": [
    "# 2. Create a class Rectangle with length and width. Add a method to calculate area\n",
    "\n",
    "class Rectangle:\n",
    "    def __init__(self,length,width):\n",
    "        self.length=length\n",
    "        self.width=width\n",
    "    def area(self):\n",
    "        return f\"{(self.length)*(self.width)}\"\n",
    "a=Rectangle(2,5)\n",
    "print(\"Area:\",a.area())\n"
   ]
  },
  {
   "cell_type": "code",
   "execution_count": 28,
   "id": "c436647b-d6cd-4301-87ba-3136fd562d69",
   "metadata": {},
   "outputs": [
    {
     "data": {
      "text/plain": [
       "'Name:Amap, Marks:98'"
      ]
     },
     "execution_count": 28,
     "metadata": {},
     "output_type": "execute_result"
    }
   ],
   "source": [
    "# 3. Define a class Student with name and marks. Create two objects and print their details.\n",
    "\n",
    "class Student:\n",
    "    def __init__(self,name,marks):\n",
    "        self.name=name\n",
    "        self.marks=marks\n",
    "    def display(self):\n",
    "        return f\"Name:{self.name}, Marks:{self.marks}\"\n",
    "student1=Student(\"Amap\",98)\n",
    "student2=Student(\"Bb\",90)\n",
    "student1.display()\n"
   ]
  },
  {
   "cell_type": "code",
   "execution_count": 29,
   "id": "0aade595-2519-4ec7-a6aa-052416dc213c",
   "metadata": {},
   "outputs": [
    {
     "data": {
      "text/plain": [
       "'Name:Bb, Marks:90'"
      ]
     },
     "execution_count": 29,
     "metadata": {},
     "output_type": "execute_result"
    }
   ],
   "source": [
    "student2.display()"
   ]
  },
  {
   "cell_type": "code",
   "execution_count": 31,
   "id": "c86e0f75-28d7-4b3b-92fe-0c6088b02565",
   "metadata": {},
   "outputs": [
    {
     "name": "stdout",
     "output_type": "stream",
     "text": [
      "True\n"
     ]
    }
   ],
   "source": [
    "# 4.Create a class Person with a method is_adult() that returns True if age >= 18.\n",
    "\n",
    "class Person:\n",
    "    def __init__(self,name,age):\n",
    "        self.name=name\n",
    "        self.age=age\n",
    "\n",
    "    def is_adult(self):\n",
    "        return self.age>=18\n",
    "p1=Person(\"John\",22)\n",
    "print(p1.is_adult())"
   ]
  },
  {
   "cell_type": "code",
   "execution_count": 33,
   "id": "45c99a9d-361c-4737-97c2-dd6101b17f9c",
   "metadata": {},
   "outputs": [
    {
     "name": "stdout",
     "output_type": "stream",
     "text": [
      "5000\n"
     ]
    }
   ],
   "source": [
    "# 5.Make a class Account with methods deposit() and get_balance(). Initial balance is 0.\n",
    "\n",
    "class Account:\n",
    "    def __init__(self):\n",
    "        self.balance=0\n",
    "\n",
    "    def deposit(self,amount):\n",
    "        self.balance+=amount\n",
    "\n",
    "    def get_balance(self):\n",
    "        return self.balance\n",
    "acc=Account()\n",
    "acc.deposit(5000)\n",
    "print(acc.get_balance())"
   ]
  },
  {
   "cell_type": "code",
   "execution_count": 34,
   "id": "e6967ad0-4f05-4340-a9c3-6707fcbdef0e",
   "metadata": {},
   "outputs": [
    {
     "name": "stdout",
     "output_type": "stream",
     "text": [
      "77.0\n"
     ]
    }
   ],
   "source": [
    "# 6. Create a class Temperature that stores Celsius and has method to_fahrenheit().\n",
    "\n",
    "class Temperature:\n",
    "    def __init__(self, celsius):\n",
    "        self.celsius = celsius\n",
    "\n",
    "    def to_fahrenheit(self):\n",
    "        return (self.celsius * 9/5) + 32\n",
    "\n",
    "t = Temperature(25)\n",
    "print(t.to_fahrenheit())  \n"
   ]
  },
  {
   "cell_type": "code",
   "execution_count": 37,
   "id": "6f641618-743c-4999-9964-6d2af1a6f90f",
   "metadata": {},
   "outputs": [
    {
     "name": "stdout",
     "output_type": "stream",
     "text": [
      "Brand: Dell, RAM: 8GB, Processor: Intel i7\n"
     ]
    }
   ],
   "source": [
    "# 7. Define a class Laptop that takes brand, RAM, and processor. Add method specs().\n",
    "\n",
    "class Laptop:\n",
    "    def __init__(self,brand,RAM,processor):\n",
    "        self.brand=brand\n",
    "        self.RAM=RAM\n",
    "        self.processor=processor\n",
    "\n",
    "    def specs(self):\n",
    "        return f\"Brand: {self.brand}, RAM: {self.RAM}, Processor: {self.processor}\"\n",
    "l=Laptop(\"Dell\",\"8GB\",\"Intel i7\")\n",
    "print(l.specs())"
   ]
  },
  {
   "cell_type": "code",
   "execution_count": 39,
   "id": "e6809409-9271-4340-ab07-5917a25b1f45",
   "metadata": {},
   "outputs": [
    {
     "name": "stdout",
     "output_type": "stream",
     "text": [
      "True\n",
      "The history saving thread hit an unexpected error (OperationalError('attempt to write a readonly database')).History will not be written to the database.\n"
     ]
    }
   ],
   "source": [
    "# 8. Create a class Triangle with 3 sides. Write a method to check if it's a valid triangle.\n",
    "#to check sum of any two sides should greater than the third side\n",
    "class Triangle:\n",
    "    def __init__(self,a,b,c):\n",
    "        self.a=a\n",
    "        self.b=b\n",
    "        self.c=c\n",
    "    def is_valid(self):\n",
    "        return (self.a + self.b > self.c) and \\\n",
    "               (self.a + self.c > self.b) and \\\n",
    "               (self.b + self.c > self.a)\n",
    "\n",
    "tri=Triangle(3,4,5)\n",
    "print(tri.is_valid())"
   ]
  },
  {
   "cell_type": "code",
   "execution_count": 41,
   "id": "eb6ba4d2-fa4d-461f-8a2b-a81c3a840d57",
   "metadata": {},
   "outputs": [
    {
     "name": "stdout",
     "output_type": "stream",
     "text": [
      "22000.0\n"
     ]
    }
   ],
   "source": [
    "# 9. Create a class Employee with name and salary. Write a method to give a 10% raise.\n",
    "\n",
    "class Employee:\n",
    "    def __init__(self,name,salary):\n",
    "        self.name=name\n",
    "        self.salary=salary\n",
    "\n",
    "    def raise_bonus(self):\n",
    "        return self.salary+0.10*self.salary\n",
    "\n",
    "r=Employee(\"Rita\",20000)\n",
    "print(r.raise_bonus())"
   ]
  },
  {
   "cell_type": "code",
   "execution_count": 42,
   "id": "f55c8bf5-5406-4260-9e56-f54d8c6c8f44",
   "metadata": {},
   "outputs": [
    {
     "name": "stdout",
     "output_type": "stream",
     "text": [
      "Movie: Inception, Director: Christopher Nolan, Rating: 8.8\n",
      "Rating Level: Good\n"
     ]
    }
   ],
   "source": [
    "# 10. Create a class Movie that stores name, director, and rating. Add method to show rating level (Good/Bad).\n",
    "\n",
    "class Movie:\n",
    "    def __init__(self,name,director,rating):\n",
    "        self.name=name\n",
    "        self.director=director\n",
    "        self.rating=rating\n",
    "\n",
    "    def rating_level(self):\n",
    "        if self.rating>7:\n",
    "            return \"Good\"\n",
    "        else:\n",
    "            return \"Bad\"\n",
    "\n",
    "    def display(self):\n",
    "        return f\"Movie: {self.name}, Director: {self.director}, Rating: {self.rating}\"\n",
    "\n",
    "movie1 = Movie(\"Inception\", \"Christopher Nolan\", 8.8)\n",
    "print(movie1.display())  # Output: Movie: Inception, Director: Christopher Nolan, Rating: 8.8\n",
    "print(\"Rating Level:\", movie1.rating_level())  # Output: Rating Level: Good\n",
    "\n"
   ]
  },
  {
   "cell_type": "code",
   "execution_count": 43,
   "id": "8491ec7d-4c3e-4933-b155-ddbe53bc8c09",
   "metadata": {},
   "outputs": [
    {
     "name": "stdout",
     "output_type": "stream",
     "text": [
      "Movie: The Room, Director: Tommy Wiseau, Rating: 3.7\n",
      "Rating Level: Bad\n"
     ]
    }
   ],
   "source": [
    "movie2 = Movie(\"The Room\", \"Tommy Wiseau\", 3.7)\n",
    "print(movie2.display())  # Output: Movie: The Room, Director: Tommy Wiseau, Rating: 3.7\n",
    "print(\"Rating Level:\", movie2.rating_level())"
   ]
  },
  {
   "cell_type": "code",
   "execution_count": null,
   "id": "f0f18410-3172-447e-b4cd-c12200a3a0d6",
   "metadata": {},
   "outputs": [],
   "source": []
  }
 ],
 "metadata": {
  "kernelspec": {
   "display_name": "Python 3 (ipykernel)",
   "language": "python",
   "name": "python3"
  },
  "language_info": {
   "codemirror_mode": {
    "name": "ipython",
    "version": 3
   },
   "file_extension": ".py",
   "mimetype": "text/x-python",
   "name": "python",
   "nbconvert_exporter": "python",
   "pygments_lexer": "ipython3",
   "version": "3.13.1"
  }
 },
 "nbformat": 4,
 "nbformat_minor": 5
}
