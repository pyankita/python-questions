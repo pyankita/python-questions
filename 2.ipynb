{
 "cells": [
  {
   "cell_type": "code",
   "execution_count": 9,
   "id": "ed49e3ff-e33a-4e4a-9c05-c5434cc1775e",
   "metadata": {},
   "outputs": [
    {
     "data": {
      "text/plain": [
       "11"
      ]
     },
     "execution_count": 9,
     "metadata": {},
     "output_type": "execute_result"
    }
   ],
   "source": [
    "#1. to add two numbers\n",
    "def add_numbers(a,b):\n",
    "    return a+b\n",
    "add_numbers(5,6)"
   ]
  },
  {
   "cell_type": "code",
   "execution_count": 4,
   "id": "08f1138d-008b-4365-903c-4718c7da679f",
   "metadata": {},
   "outputs": [
    {
     "name": "stdout",
     "output_type": "stream",
     "text": [
      "True\n"
     ]
    }
   ],
   "source": [
    "#2. check even or odd\n",
    "def is_even(num):\n",
    "    if num%2==0:\n",
    "        print(True)\n",
    "    else:\n",
    "        return False\n",
    "is_even(8)\n",
    "\n",
    "        "
   ]
  },
  {
   "cell_type": "code",
   "execution_count": 6,
   "id": "e51928aa-cb02-442a-995d-1257a6af640a",
   "metadata": {},
   "outputs": [
    {
     "data": {
      "text/plain": [
       "20"
      ]
     },
     "execution_count": 6,
     "metadata": {},
     "output_type": "execute_result"
    }
   ],
   "source": [
    "#3. to find maximum of three numbers \n",
    "def max_of_three(*args):\n",
    "    return max(args)\n",
    "max_of_three(10,20,5)"
   ]
  },
  {
   "cell_type": "code",
   "execution_count": 7,
   "id": "7e7ce7da-8e54-40cc-a40c-b9f11eb6d125",
   "metadata": {},
   "outputs": [
    {
     "data": {
      "text/plain": [
       "22"
      ]
     },
     "execution_count": 7,
     "metadata": {},
     "output_type": "execute_result"
    }
   ],
   "source": [
    "#another way \n",
    "def max_three(a,b,c):\n",
    "    return max(a,b,c)\n",
    "max_three(10,2,22)"
   ]
  },
  {
   "cell_type": "code",
   "execution_count": 11,
   "id": "bc82d8f1-7b18-4714-927e-f2160a36f202",
   "metadata": {},
   "outputs": [
    {
     "name": "stdout",
     "output_type": "stream",
     "text": [
      "2\n",
      "1\n"
     ]
    }
   ],
   "source": [
    "#4 count vowels in a string \n",
    "def count_vowels(string):\n",
    "    count=0\n",
    "    for char in string:\n",
    "        if char in \"aeiouAEIOU\":\n",
    "            count+=1\n",
    "    print(count)\n",
    "\n",
    "count_vowels(\"hello\")\n",
    "count_vowels(\"python\")"
   ]
  },
  {
   "cell_type": "code",
   "execution_count": 13,
   "id": "97bb8ef0-6f9b-4bd7-97a1-e432dacf712c",
   "metadata": {},
   "outputs": [
    {
     "name": "stdout",
     "output_type": "stream",
     "text": [
      "120\n"
     ]
    }
   ],
   "source": [
    "#5 factorial number\n",
    "def fact(n):\n",
    "    f=1\n",
    "    for i in range(1,n+1):\n",
    "        f*=i\n",
    "    print(f)\n",
    "fact(5)"
   ]
  },
  {
   "cell_type": "code",
   "execution_count": 16,
   "id": "ba161ff2-4e55-47e5-925a-b84fc8ffe235",
   "metadata": {},
   "outputs": [
    {
     "data": {
      "text/plain": [
       "120"
      ]
     },
     "execution_count": 16,
     "metadata": {},
     "output_type": "execute_result"
    }
   ],
   "source": [
    "#using recursive function \n",
    "def factorial(number):\n",
    "    if number==1 or number==0:\n",
    "        return 1\n",
    "    return number*factorial(number-1)\n",
    "factorial(5)"
   ]
  },
  {
   "cell_type": "code",
   "execution_count": 19,
   "id": "6c4a8f70-deed-4de1-b37f-77438c22e170",
   "metadata": {},
   "outputs": [
    {
     "data": {
      "text/plain": [
       "'olleh'"
      ]
     },
     "execution_count": 19,
     "metadata": {},
     "output_type": "execute_result"
    }
   ],
   "source": [
    "#6 to reverse a string \n",
    "def reverse_string(string):\n",
    "    return string[::-1]\n",
    "reverse_string(\"hello\")"
   ]
  },
  {
   "cell_type": "code",
   "execution_count": 20,
   "id": "d15d1e47-959e-4aab-91c1-517bed661932",
   "metadata": {},
   "outputs": [
    {
     "name": "stdout",
     "output_type": "stream",
     "text": [
      "True\n",
      "False\n"
     ]
    }
   ],
   "source": [
    "#7 to check the palindrome\n",
    "def is_palindrome(string):\n",
    "    if string[::]==string[::-1]:\n",
    "        print(True)\n",
    "    else:\n",
    "        print(False)\n",
    "is_palindrome(\"racecar\")\n",
    "is_palindrome(\"hello\")"
   ]
  },
  {
   "cell_type": "code",
   "execution_count": 21,
   "id": "e7ff747f-cc5f-4ab5-b67d-b2db941753a3",
   "metadata": {},
   "outputs": [],
   "source": [
    "#class practice"
   ]
  },
  {
   "cell_type": "code",
   "execution_count": 22,
   "id": "43ee985d-6861-4671-b856-10efb27ccc6d",
   "metadata": {},
   "outputs": [
    {
     "name": "stdout",
     "output_type": "stream",
     "text": [
      "Hello , my name is Ankita Gharti Magar and I am 22 years old.\n"
     ]
    }
   ],
   "source": [
    "#8. to create simple class\n",
    "class Person:\n",
    "    def __init__(self,name, age):\n",
    "        self.name=name\n",
    "        self.age=age\n",
    "    def introduce(self):\n",
    "        return f\"Hello , my name is {self.name} and I am {self.age} years old.\"\n",
    "n=Person(\"Ankita Gharti Magar\",22)\n",
    "print(n.introduce())"
   ]
  },
  {
   "cell_type": "code",
   "execution_count": 47,
   "id": "fd56211e-1e3d-43d6-a269-5ded8ea688cd",
   "metadata": {},
   "outputs": [
    {
     "name": "stdout",
     "output_type": "stream",
     "text": [
      "1300\n"
     ]
    },
    {
     "data": {
      "text/plain": [
       "1300"
      ]
     },
     "execution_count": 47,
     "metadata": {},
     "output_type": "execute_result"
    }
   ],
   "source": [
    "#9 to creat bank account\n",
    "class BankAccount:\n",
    "    def __init__(self,account_holder,balance):\n",
    "        self.account_holder=account_holder\n",
    "        self.balance=balance\n",
    "        \n",
    "    def deposit(self,amount):\n",
    "        self.balance=self.balance+amount\n",
    "        return self.balance\n",
    "        \n",
    "    def withdraw(self,amount):\n",
    "        if self.balance>amount:\n",
    "            self.balance=self.balance-amount\n",
    "            print(self.balance)\n",
    "        else:\n",
    "            print(\"Insufficent amount\")\n",
    "\n",
    "    def get_balance(self):\n",
    "        return self.balance\n",
    "account=BankAccount(\"John\",1000)\n",
    "account.deposit(500)\n",
    "account.withdraw(200)\n",
    "account.get_balance()"
   ]
  },
  {
   "cell_type": "code",
   "execution_count": 50,
   "id": "d7337695-79ed-4383-9e05-5c27a6319b4e",
   "metadata": {},
   "outputs": [
    {
     "name": "stdout",
     "output_type": "stream",
     "text": [
      "Brand:Toyota, Model:Camry, Year:2022\n"
     ]
    }
   ],
   "source": [
    "#10 to create car \n",
    "class Car:\n",
    "    def __init__(self,brand,model,year):\n",
    "        self.brand=brand\n",
    "        self.model=model\n",
    "        self.year=year\n",
    "    def car_info(self):\n",
    "        return f\"Brand:{self.brand}, Model:{self.model}, Year:{self.year}\"\n",
    "c=Car(\"Toyota\", \"Camry\", 2022)\n",
    "print(c.car_info())"
   ]
  },
  {
   "cell_type": "code",
   "execution_count": 52,
   "id": "c9c5eb83-d074-4453-aefb-41cba60991cd",
   "metadata": {},
   "outputs": [
    {
     "name": "stdout",
     "output_type": "stream",
     "text": [
      "85.0\n"
     ]
    }
   ],
   "source": [
    "#11.student class\n",
    "class Student:\n",
    "    def __init__(self,name,roll_no,marks):\n",
    "        self.name=name\n",
    "        self.roll_no=roll_no\n",
    "        self.marks=marks\n",
    "        \n",
    "    def average_marks(self):\n",
    "        if self.marks:\n",
    "            return sum(self.marks)/len(self.marks)\n",
    "        return 0\n",
    "\n",
    "s = Student(\"Bob\", 101, [80, 90, 85])\n",
    "print(s.average_marks())"
   ]
  },
  {
   "cell_type": "code",
   "execution_count": 53,
   "id": "6fff3a52-d833-4d6d-a443-3e205b5be990",
   "metadata": {},
   "outputs": [
    {
     "name": "stdout",
     "output_type": "stream",
     "text": [
      "6000\n"
     ]
    }
   ],
   "source": [
    "#12. employee class with salary increment\n",
    "class Employee:\n",
    "    def __init__(self,name,salary):\n",
    "        self.name=name\n",
    "        self.salary=salary\n",
    "        \n",
    "    def give_raise(self,amount):\n",
    "        self.salary=self.salary+amount\n",
    "        return self.salary\n",
    "\n",
    "e = Employee(\"David\", 5000)\n",
    "e.give_raise(1000)\n",
    "print(e.salary)\n",
    "    "
   ]
  },
  {
   "cell_type": "code",
   "execution_count": 57,
   "id": "8503c6de-de01-40c7-80b1-2e8576fefe11",
   "metadata": {},
   "outputs": [
    {
     "name": "stdout",
     "output_type": "stream",
     "text": [
      "47500.0\n"
     ]
    }
   ],
   "source": [
    "#13 laptop with discount\n",
    "\"\"\"\n",
    "Laptop Class with Discount\n",
    "Create a class Laptop with:\n",
    "\n",
    "Attributes: brand, price\n",
    "Method: apply_discount(percent): Reduces price by percent%\n",
    "\"\"\"\n",
    "class Laptop:\n",
    "    def __init__(self,brand,price):\n",
    "        self.brand=brand\n",
    "        self.price=price\n",
    "        \n",
    "    def apply_discount(self,percent):\n",
    "        self.price=self.price-(percent/100)*self.price\n",
    "        return self.price\n",
    "\n",
    "l = Laptop(\"Dell\", 50000)\n",
    "l.apply_discount(5)\n",
    "print(l.price) "
   ]
  },
  {
   "cell_type": "code",
   "execution_count": 56,
   "id": "8436269b-03e7-4f3c-9795-6bea4642d70c",
   "metadata": {},
   "outputs": [
    {
     "name": "stdout",
     "output_type": "stream",
     "text": [
      "Animal makes a sound\n",
      "Dog barks\n",
      "Cat Meows\n"
     ]
    }
   ],
   "source": [
    "#14\n",
    "\"\"\"\n",
    "Create a base class Animal with:\n",
    "\n",
    "Attribute: name\n",
    "Method: speak() → Prints \"Animal makes a sound\"\n",
    "Create two subclasses:\n",
    "\n",
    "Dog → Override speak() to print \"Dog barks\"\n",
    "Cat → Override speak() to print \"Cat meows\"\n",
    "\n",
    "\"\"\"\n",
    "class Animal: #base class\n",
    "    def __init__(self,name):\n",
    "        self.name=name\n",
    "    def speak(self):\n",
    "        print(\"Animal makes a sound\")\n",
    "        \n",
    "class Dog(Animal):\n",
    "    def speak(self):\n",
    "        print(\"Dog barks\")\n",
    "        \n",
    "class Cat(Animal):\n",
    "    def speak(self):\n",
    "        print(\"Cat Meows\")\n",
    "\n",
    "a = Animal(\"Generic Animal\")\n",
    "d = Dog(\"Buddy\")\n",
    "c = Cat(\"Whiskers\")   \n",
    "\n",
    "a.speak()\n",
    "d.speak()\n",
    "c.speak()"
   ]
  },
  {
   "cell_type": "code",
   "execution_count": 59,
   "id": "31ed8614-2349-41bf-902f-8666a565697b",
   "metadata": {},
   "outputs": [
    {
     "name": "stdout",
     "output_type": "stream",
     "text": [
      " Brand:Generic , Speed:100 km/h\n",
      " Brand:Toyota , Speed:120 km/h, Seats: 4\n"
     ]
    }
   ],
   "source": [
    "#15\n",
    "\"\"\"\n",
    "Create a base class Vehicle with:\n",
    "\n",
    "Attributes: brand, speed\n",
    "Method: describe() → Returns \"Brand: [brand], Speed: [speed] km/h\"\n",
    "Create a subclass Car that adds:\n",
    "\n",
    "Attribute: seats\n",
    "Method: describe() → Extends Vehicle.describe() and adds \"Seats: [seats]\"\n",
    "\n",
    "\"\"\"\n",
    "class Vehicle:\n",
    "    def __init__(self,brand,speed):\n",
    "        self.brand=brand\n",
    "        self.speed=speed\n",
    "        \n",
    "    def describe(self):\n",
    "        return f\" Brand:{self.brand} , Speed:{self.speed} km/h\"\n",
    "    \n",
    "class Car(Vehicle):\n",
    "    def __init__(self,brand,speed,seats):\n",
    "        super().__init__(brand, speed)\n",
    "        self.seats=seats\n",
    "        \n",
    "    def describe(self):\n",
    "        return super().describe() + f\", Seats: {self.seats}\"\n",
    "        \n",
    "v = Vehicle(\"Generic\", 100)\n",
    "c = Car(\"Toyota\", 120, 4)\n",
    "\n",
    "print(v.describe())\n",
    "print(c.describe())"
   ]
  },
  {
   "cell_type": "code",
   "execution_count": null,
   "id": "928a8105-e62a-4669-846e-f0c3e72bc360",
   "metadata": {},
   "outputs": [],
   "source": []
  }
 ],
 "metadata": {
  "kernelspec": {
   "display_name": "Python 3 (ipykernel)",
   "language": "python",
   "name": "python3"
  },
  "language_info": {
   "codemirror_mode": {
    "name": "ipython",
    "version": 3
   },
   "file_extension": ".py",
   "mimetype": "text/x-python",
   "name": "python",
   "nbconvert_exporter": "python",
   "pygments_lexer": "ipython3",
   "version": "3.13.1"
  }
 },
 "nbformat": 4,
 "nbformat_minor": 5
}
